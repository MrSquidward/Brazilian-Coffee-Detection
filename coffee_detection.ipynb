{
 "cells": [
  {
   "cell_type": "code",
   "execution_count": 1,
   "metadata": {},
   "outputs": [],
   "source": [
    "import tensorflow as tf\n",
    "from tensorflow.keras import regularizers\n",
    "from tensorflow.keras.layers import Conv2D, MaxPool2D, LayerNormalization\n",
    "from tensorflow.keras.layers import Flatten, Dropout\n",
    "\n",
    "import numpy as np\n",
    "\n",
    "from PIL import Image\n",
    "from numpy import asarray"
   ]
  },
  {
   "cell_type": "markdown",
   "metadata": {},
   "source": [
    "Wczytanie pliku z oznaczeniami, przyporządkowanie etykiet do zdjęć"
   ]
  },
  {
   "cell_type": "code",
   "execution_count": 3,
   "metadata": {},
   "outputs": [
    {
     "name": "stdout",
     "output_type": "stream",
     "text": [
      "['coffee', 'montesanto.T3456.B3520.L2560.R2624', array([[[  0,   2,   0],\n",
      "        [  5,   7,   0],\n",
      "        [  6,   0,   0],\n",
      "        ...,\n",
      "        [ 58, 131, 242],\n",
      "        [ 59, 131, 242],\n",
      "        [ 67, 137, 249]],\n",
      "\n",
      "       [[  6,   8,   0],\n",
      "        [  1,   1,   0],\n",
      "        [ 17,  13,   2],\n",
      "        ...,\n",
      "        [ 63, 139, 249],\n",
      "        [ 62, 134, 245],\n",
      "        [ 65, 137, 248]],\n",
      "\n",
      "       [[  1,   1,   0],\n",
      "        [  2,   2,   0],\n",
      "        [  1,   0,   0],\n",
      "        ...,\n",
      "        [ 62, 140, 251],\n",
      "        [ 64, 137, 250],\n",
      "        [ 69, 142, 255]],\n",
      "\n",
      "       ...,\n",
      "\n",
      "       [[ 45, 126, 182],\n",
      "        [ 43, 122, 178],\n",
      "        [ 45, 122, 176],\n",
      "        ...,\n",
      "        [121, 104,  96],\n",
      "        [122, 109, 101],\n",
      "        [122, 112, 103]],\n",
      "\n",
      "       [[ 53, 132, 188],\n",
      "        [ 49, 128, 184],\n",
      "        [ 53, 129, 181],\n",
      "        ...,\n",
      "        [115, 100,  93],\n",
      "        [115, 104,  98],\n",
      "        [115, 106,  99]],\n",
      "\n",
      "       [[ 52, 131, 187],\n",
      "        [ 50, 127, 181],\n",
      "        [ 52, 128, 180],\n",
      "        ...,\n",
      "        [113, 100,  92],\n",
      "        [110,  99,  95],\n",
      "        [108,  99,  94]]], dtype=uint8)]\n"
     ]
    }
   ],
   "source": [
    "def get_images_from_txt(labels_txt_file, images_folder_path):\n",
    "    output_list = []\n",
    "    fold_labels_txt = open(labels_txt_file)\n",
    "    \n",
    "    for photo_label in fold_labels_txt:\n",
    "        # split a label and a name\n",
    "        is_coffee, photo_name = photo_label.split('.', 1)[0], photo_label.split('.', 1)[1][:-1]\n",
    "    \n",
    "        photo_path = images_folder_path + photo_name + '.jpg'\n",
    "    \n",
    "        # convert image to numpy array\n",
    "        image = Image.open(photo_path)\n",
    "        image_as_array = asarray(image)\n",
    "    \n",
    "        output_list.append([is_coffee, photo_name, image_as_array])\n",
    "\n",
    "    fold_labels_txt.close()\n",
    "    \n",
    "    return output_list\n",
    "    \n",
    "fold1_labels_txt = 'brazilian_coffee_scenes/fold1.txt'\n",
    "fold2_labels_txt = 'brazilian_coffee_scenes/fold2.txt'\n",
    "fold3_labels_txt = 'brazilian_coffee_scenes/fold3.txt'\n",
    "fold4_labels_txt = 'brazilian_coffee_scenes/fold4.txt'\n",
    "fold1_path = 'brazilian_coffee_scenes/fold1/'\n",
    "fold2_path = 'brazilian_coffee_scenes/fold2/'\n",
    "fold3_path = 'brazilian_coffee_scenes/fold3/'\n",
    "fold4_path = 'brazilian_coffee_scenes/fold4/'\n",
    "\n",
    "label_photos = get_images_from_txt(fold1_labels_txt, fold1_path)\n",
    "label_photos += get_images_from_txt(fold2_labels_txt, fold2_path)\n",
    "label_photos += get_images_from_txt(fold3_labels_txt, fold3_path)\n",
    "label_photos += get_images_from_txt(fold4_labels_txt, fold4_path)\n",
    "\n",
    "print(label_photos[0])"
   ]
  },
  {
   "cell_type": "raw",
   "metadata": {},
   "source": [
    "Normalizacja zdjęć oraz rozdzielenie kanałów"
   ]
  },
  {
   "cell_type": "code",
   "execution_count": 4,
   "metadata": {},
   "outputs": [],
   "source": [
    "max_pixel_value = np.array(255)\n",
    "for label_photo in label_photos:\n",
    "    label_photo[-1] = label_photo[-1] / max_pixel_value"
   ]
  },
  {
   "cell_type": "raw",
   "metadata": {},
   "source": [
    "Dzielenie danych na zbiory testowe i uczące"
   ]
  },
  {
   "cell_type": "code",
   "execution_count": 5,
   "metadata": {},
   "outputs": [
    {
     "name": "stdout",
     "output_type": "stream",
     "text": [
      "[ True False False  True False False  True  True  True False]\n",
      "720\n",
      "720\n",
      "(64, 64, 3)\n"
     ]
    }
   ],
   "source": [
    "import random\n",
    "from sklearn.model_selection import train_test_split\n",
    "\n",
    "random.shuffle(label_photos)\n",
    "train_ds, test_ds = train_test_split(label_photos, test_size=0.7)\n",
    "\n",
    "train_ds_labels = [True if photo_lb[0] == 'coffee' else False for photo_lb in train_ds]\n",
    "train_ds_photos = [photo_lb[2] for photo_lb in train_ds]\n",
    "test_ds_labels = [True if photo_lb[0] == 'coffee' else False for photo_lb in test_ds]\n",
    "test_ds_photos = [photo_lb[2] for photo_lb in test_ds]\n",
    "\n",
    "train_ds_labels = np.array(train_ds_labels)\n",
    "train_ds_photos = np.array(train_ds_photos)\n",
    "test_ds_labels = np.array(test_ds_labels)\n",
    "test_ds_photos = np.array(test_ds_photos)\n",
    "\n",
    "print(train_ds_labels[:10])\n",
    "print(len(train_ds_photos))\n",
    "print(len(train_ds_labels))\n",
    "print(train_ds_photos[0].shape)"
   ]
  },
  {
   "cell_type": "raw",
   "metadata": {},
   "source": [
    "Definicja modelu"
   ]
  },
  {
   "cell_type": "code",
   "execution_count": 6,
   "metadata": {},
   "outputs": [],
   "source": [
    "model = tf.keras.Sequential([\n",
    "    Conv2D(96, kernel_size=(5, 5), activation='relu', input_shape=(64,64,3)),\n",
    "    MaxPool2D(pool_size=(2, 2)),\n",
    "    LayerNormalization(axis=[1, 2, 3]),\n",
    "    Conv2D(256, kernel_size=(5, 5), activation='relu'),\n",
    "    MaxPool2D(pool_size=(2, 2)),\n",
    "    LayerNormalization(axis=[1, 2, 3]),\n",
    "    Conv2D(256, kernel_size=(2, 2), activation='relu'),\n",
    "    MaxPool2D(pool_size=(2, 2)),\n",
    "    Flatten(),\n",
    "    tf.keras.layers.Dense(512, activation='relu'),\n",
    "    Dropout(0.3),\n",
    "    tf.keras.layers.Dense(512, activation='relu'),\n",
    "    Dropout(0.3),\n",
    "    tf.keras.layers.Dense(1, activation='sigmoid')\n",
    "])"
   ]
  },
  {
   "cell_type": "raw",
   "metadata": {},
   "source": [
    "Uczenie modelu"
   ]
  },
  {
   "cell_type": "code",
   "execution_count": 24,
   "metadata": {},
   "outputs": [
    {
     "name": "stdout",
     "output_type": "stream",
     "text": [
      "Epoch 1/8\n",
      "23/23 [==============================] - 18s 767ms/step - loss: 0.7556 - accuracy: 0.5877\n",
      "Epoch 2/8\n",
      "23/23 [==============================] - 20s 880ms/step - loss: 0.6396 - accuracy: 0.6513\n",
      "Epoch 3/8\n",
      "23/23 [==============================] - 20s 868ms/step - loss: 0.6074 - accuracy: 0.6832\n",
      "Epoch 4/8\n",
      "23/23 [==============================] - 20s 884ms/step - loss: 0.6004 - accuracy: 0.7124\n",
      "Epoch 5/8\n",
      "23/23 [==============================] - 20s 851ms/step - loss: 0.6094 - accuracy: 0.6888\n",
      "Epoch 6/8\n",
      "23/23 [==============================] - 20s 848ms/step - loss: 0.5564 - accuracy: 0.7344\n",
      "Epoch 7/8\n",
      "23/23 [==============================] - 20s 852ms/step - loss: 0.5518 - accuracy: 0.7385\n",
      "Epoch 8/8\n",
      "23/23 [==============================] - 20s 857ms/step - loss: 0.5317 - accuracy: 0.7442\n",
      "53/53 - 17s - loss: 0.5625 - accuracy: 0.7250\n",
      "\n",
      "Test accuracy: 0.7250000238418579\n",
      "Model: \"sequential\"\n",
      "_________________________________________________________________\n",
      "Layer (type)                 Output Shape              Param #   \n",
      "=================================================================\n",
      "conv2d (Conv2D)              (None, 60, 60, 96)        7296      \n",
      "_________________________________________________________________\n",
      "max_pooling2d (MaxPooling2D) (None, 30, 30, 96)        0         \n",
      "_________________________________________________________________\n",
      "layer_normalization (LayerNo (None, 30, 30, 96)        172800    \n",
      "_________________________________________________________________\n",
      "conv2d_1 (Conv2D)            (None, 26, 26, 256)       614656    \n",
      "_________________________________________________________________\n",
      "max_pooling2d_1 (MaxPooling2 (None, 13, 13, 256)       0         \n",
      "_________________________________________________________________\n",
      "layer_normalization_1 (Layer (None, 13, 13, 256)       86528     \n",
      "_________________________________________________________________\n",
      "conv2d_2 (Conv2D)            (None, 12, 12, 256)       262400    \n",
      "_________________________________________________________________\n",
      "max_pooling2d_2 (MaxPooling2 (None, 6, 6, 256)         0         \n",
      "_________________________________________________________________\n",
      "flatten (Flatten)            (None, 9216)              0         \n",
      "_________________________________________________________________\n",
      "dense (Dense)                (None, 512)               4719104   \n",
      "_________________________________________________________________\n",
      "dropout (Dropout)            (None, 512)               0         \n",
      "_________________________________________________________________\n",
      "dense_1 (Dense)              (None, 512)               262656    \n",
      "_________________________________________________________________\n",
      "dropout_1 (Dropout)          (None, 512)               0         \n",
      "_________________________________________________________________\n",
      "dense_2 (Dense)              (None, 1)                 513       \n",
      "=================================================================\n",
      "Total params: 6,125,953\n",
      "Trainable params: 6,125,953\n",
      "Non-trainable params: 0\n",
      "_________________________________________________________________\n"
     ]
    }
   ],
   "source": [
    "model.compile(optimizer='adam',\n",
    "              loss='binary_crossentropy',\n",
    "              metrics=['accuracy'])\n",
    "\n",
    "history = model.fit(train_ds_photos, train_ds_labels, epochs=8)\n",
    "\n",
    "test_loss, test_acc = model.evaluate(test_ds_photos, test_ds_labels, verbose=2)\n",
    "\n",
    "print('\\nTest accuracy:', test_acc)\n",
    "\n",
    "model.summary()"
   ]
  },
  {
   "cell_type": "code",
   "execution_count": null,
   "metadata": {},
   "outputs": [],
   "source": [
    "Wizualizacja parametrów uczenia"
   ]
  },
  {
   "cell_type": "code",
   "execution_count": 38,
   "metadata": {},
   "outputs": [
    {
     "data": {
      "image/png": "[encoded data removed]",
      "text/plain": [
       "<Figure size 432x288 with 1 Axes>"
      ]
     },
     "metadata": {
      "needs_background": "light"
     },
     "output_type": "display_data"
    }
   ],
   "source": [
    "import matplotlib.pyplot as plt\n",
    "\n",
    "accuracy_per_epoch = history.history['accuracy']\n",
    "loss_per_epoch = history.history['loss']\n",
    "\n",
    "epochs = range(1, len(loss_per_epoch) + 1)\n",
    "\n",
    "plt.plot(epochs, accuracy_per_epoch, 'b', color='Red', label='Training acc')\n",
    "plt.plot(epochs, loss_per_epoch, 'b', label='Training loss')\n",
    "plt.title('Accuracy and loss per epoch')\n",
    "plt.legend()\n",
    "plt.show()"
   ]
  },
  {
   "cell_type": "raw",
   "metadata": {},
   "source": [
    "Wykorzystanie modelu do detekcji upraw kawy"
   ]
  },
  {
   "cell_type": "code",
   "execution_count": 23,
   "metadata": {},
   "outputs": [
    {
     "name": "stdout",
     "output_type": "stream",
     "text": [
      "Image: montesanto.T1856.B1920.L6912.R6976\n",
      "Is coffee: coffee\n",
      "Model predicted: coffee\n",
      "Confidence: 91.49%\n"
     ]
    },
    {
     "data": {
      "image/png": "[encoded data removed]",
      "text/plain": [
       "<PIL.JpegImagePlugin.JpegImageFile image mode=RGB size=64x64 at 0x1D18B43E2C8>"
      ]
     },
     "metadata": {},
     "output_type": "display_data"
    },
    {
     "name": "stdout",
     "output_type": "stream",
     "text": [
      "Image: montesanto.T7680.B7744.L3136.R3200\n",
      "Is coffee: noncoffee\n",
      "Model predicted: noncoffee\n",
      "Confidence: 64.28%\n"
     ]
    },
    {
     "data": {
      "image/png": "[encoded data removed]",
      "text/plain": [
       "<PIL.JpegImagePlugin.JpegImageFile image mode=RGB size=64x64 at 0x1D18B414188>"
      ]
     },
     "metadata": {},
     "output_type": "display_data"
    },
    {
     "name": "stdout",
     "output_type": "stream",
     "text": [
      "Image: montesanto.T9600.B9664.L8576.R8640\n",
      "Is coffee: noncoffee\n",
      "Model predicted: noncoffee\n",
      "Confidence: 66.28%\n"
     ]
    },
    {
     "data": {
      "image/png": "[encoded data removed]",
      "text/plain": [
       "<PIL.JpegImagePlugin.JpegImageFile image mode=RGB size=64x64 at 0x1D18B3FCA08>"
      ]
     },
     "metadata": {},
     "output_type": "display_data"
    },
    {
     "name": "stdout",
     "output_type": "stream",
     "text": [
      "Image: montesanto.T4992.B5056.L3264.R3328\n",
      "Is coffee: coffee\n",
      "Model predicted: noncoffee\n",
      "Confidence: 54.6%\n"
     ]
    },
    {
     "data": {
      "image/png": "[encoded data removed]",
      "text/plain": [
       "<PIL.JpegImagePlugin.JpegImageFile image mode=RGB size=64x64 at 0x1D18B58CD88>"
      ]
     },
     "metadata": {},
     "output_type": "display_data"
    }
   ],
   "source": [
    "import os\n",
    "\n",
    "def find_file_in_subfolder(root, filename):\n",
    "    # returns a full path to file from the root\n",
    "    for file_root, dirs, files in os.walk(root):\n",
    "        for name in files:\n",
    "            if name == filename:\n",
    "                return file_root + '/' + name\n",
    "\n",
    "\n",
    "def predict_coffee_crop_show_results(img_nr):\n",
    "    prediction = model.predict(test_ds_photos[img_nr].reshape(-1, 64, 64, 3))[0][0]\n",
    "    \n",
    "    image_name = test_ds[img_nr][1]\n",
    "    image_status = test_ds[img_nr][0]\n",
    "\n",
    "    print(f'Image: {image_name}')\n",
    "    print(f'Is coffee: {image_status}')\n",
    "    if prediction > 0.5: \n",
    "        print('Model predicted: coffee')\n",
    "        print(f'Confidence: {round(prediction * 100, 2)}%')\n",
    "    else:\n",
    "        print('Model predicted: noncoffee')\n",
    "        print(f'Confidence: {round((1 - prediction) * 100, 2)}%')\n",
    "\n",
    "    img_path = find_file_in_subfolder('brazilian_coffee_scenes/', image_name + '.jpg')\n",
    "    img = Image.open(img_path)\n",
    "\n",
    "    display(img)\n",
    "    \n",
    "predict_coffee_crop_show_results(12)\n",
    "predict_coffee_crop_show_results(20)\n",
    "predict_coffee_crop_show_results(90)\n",
    "predict_coffee_crop_show_results(101)"
   ]
  }
 ],
 "metadata": {
  "kernelspec": {
   "display_name": "Python 3",
   "language": "python",
   "name": "python3"
  },
  "language_info": {
   "codemirror_mode": {
    "name": "ipython",
    "version": 3
   },
   "file_extension": ".py",
   "mimetype": "text/x-python",
   "name": "python",
   "nbconvert_exporter": "python",
   "pygments_lexer": "ipython3",
   "version": "3.7.9"
  }
 },
 "nbformat": 4,
 "nbformat_minor": 4
}
